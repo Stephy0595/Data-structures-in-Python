{
 "cells": [
  {
   "cell_type": "code",
   "execution_count": 1,
   "id": "21191648-5e25-420d-87a2-807b0536bcf3",
   "metadata": {},
   "outputs": [
    {
     "name": "stdout",
     "output_type": "stream",
     "text": [
      "[1, 4, 6, 11, 15]\n"
     ]
    }
   ],
   "source": [
    "# LIST\n",
    "# 1) Create a list of 5 random numbers and print the list\n",
    "a=[1, 4, 6, 11, 15]\n",
    "print(a)\n"
   ]
  },
  {
   "cell_type": "code",
   "execution_count": 2,
   "id": "6cc19071-d9d9-4cb7-be1e-1c3bacbaef5a",
   "metadata": {},
   "outputs": [
    {
     "name": "stdout",
     "output_type": "stream",
     "text": [
      "[1, 4, 6, 11, 15, 20, 3, 19]\n"
     ]
    }
   ],
   "source": [
    "# 2) Insert 3 new values to the list and print the updated list\n",
    "a.extend([20,3,19])\n",
    "print(a)\n"
   ]
  },
  {
   "cell_type": "code",
   "execution_count": 3,
   "id": "60ca0e9a-9d55-4b08-9fc7-a84069cdaa0d",
   "metadata": {},
   "outputs": [
    {
     "name": "stdout",
     "output_type": "stream",
     "text": [
      "1\n",
      "4\n",
      "6\n",
      "11\n",
      "15\n",
      "20\n",
      "3\n",
      "19\n"
     ]
    }
   ],
   "source": [
    "# 3) Use a for loop to print each element in the list\n",
    "for element in a:\n",
    "    print(element)\n",
    "    "
   ]
  },
  {
   "cell_type": "code",
   "execution_count": 4,
   "id": "7cf96157-51df-459f-8c8a-00baa8bf36c2",
   "metadata": {},
   "outputs": [
    {
     "name": "stdout",
     "output_type": "stream",
     "text": [
      "{'name': 'John', 'age': 25, 'address': 'New York'}\n"
     ]
    }
   ],
   "source": [
    "# DICTIONARY\n",
    "# 1) Creating the dictionary\n",
    "d = {'name': 'John', 'age': 25, 'address': 'New York'}\n",
    "print(d)\n"
   ]
  },
  {
   "cell_type": "code",
   "execution_count": 5,
   "id": "8498516b-d9cd-4952-808d-da7c5cd71b16",
   "metadata": {},
   "outputs": [
    {
     "name": "stdout",
     "output_type": "stream",
     "text": [
      "{'name': 'John', 'age': 25, 'address': 'New York', 'phone': '1234567890'}\n"
     ]
    }
   ],
   "source": [
    "# 2) Adding a new key-value pair to the dictionary\n",
    "d['phone'] = '1234567890'\n",
    "print(d)"
   ]
  },
  {
   "cell_type": "code",
   "execution_count": 6,
   "id": "ee0667a8-410b-4a24-b93f-802eda4d375b",
   "metadata": {},
   "outputs": [
    {
     "name": "stdout",
     "output_type": "stream",
     "text": [
      "{1, 2, 3, 4, 5}\n"
     ]
    }
   ],
   "source": [
    "# SET\n",
    "# 1) Creating the set\n",
    "b = {1, 2, 3, 4, 5}\n",
    "print(b)"
   ]
  },
  {
   "cell_type": "code",
   "execution_count": 7,
   "id": "4940cd0b-6e9e-4cff-a8f9-7ee596ac94c4",
   "metadata": {},
   "outputs": [
    {
     "name": "stdout",
     "output_type": "stream",
     "text": [
      "{1, 2, 3, 4, 5, 6}\n"
     ]
    }
   ],
   "source": [
    "# 2) Adding the value 6 to the set\n",
    "b.add(6)\n",
    "print(b)"
   ]
  },
  {
   "cell_type": "code",
   "execution_count": 8,
   "id": "d46b3cd3-f7fb-4028-8589-c0e2c24cf058",
   "metadata": {},
   "outputs": [
    {
     "name": "stdout",
     "output_type": "stream",
     "text": [
      "{1, 2, 4, 5, 6}\n"
     ]
    }
   ],
   "source": [
    "# 3) Removing the value 3 from the set\n",
    "b.remove(3)\n",
    "print(b)"
   ]
  },
  {
   "cell_type": "code",
   "execution_count": 9,
   "id": "b3894b04-0c54-4c5a-b532-91cbae20afba",
   "metadata": {},
   "outputs": [
    {
     "name": "stdout",
     "output_type": "stream",
     "text": [
      "(1, 2, 3, 4)\n"
     ]
    }
   ],
   "source": [
    "# TUPLE    \n",
    "# 1) Create a tuple with values 1, 2, 3, and 4\n",
    "t1 = (1, 2, 3, 4)\n",
    "print(t1)"
   ]
  },
  {
   "cell_type": "code",
   "execution_count": 10,
   "id": "2df46549-cabf-4366-8cdf-a5fe3a2c9251",
   "metadata": {},
   "outputs": [
    {
     "name": "stdout",
     "output_type": "stream",
     "text": [
      "4\n"
     ]
    }
   ],
   "source": [
    "# 2) Length of the tuple\n",
    "print(len(t1))"
   ]
  },
  {
   "cell_type": "code",
   "execution_count": null,
   "id": "9444d57e-8db5-4a16-9751-5e229b168fce",
   "metadata": {},
   "outputs": [],
   "source": []
  }
 ],
 "metadata": {
  "kernelspec": {
   "display_name": "Python 3 (ipykernel)",
   "language": "python",
   "name": "python3"
  },
  "language_info": {
   "codemirror_mode": {
    "name": "ipython",
    "version": 3
   },
   "file_extension": ".py",
   "mimetype": "text/x-python",
   "name": "python",
   "nbconvert_exporter": "python",
   "pygments_lexer": "ipython3",
   "version": "3.12.7"
  }
 },
 "nbformat": 4,
 "nbformat_minor": 5
}
